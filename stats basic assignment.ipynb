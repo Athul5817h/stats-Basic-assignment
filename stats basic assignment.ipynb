{
 "cells": [
  {
   "cell_type": "code",
   "execution_count": 2,
   "id": "600e73ba-eb5d-4288-ad46-cc8a1a416ebc",
   "metadata": {},
   "outputs": [],
   "source": [
    "# 1. Explain the different types of data (qualitative and quantitative) and provide examples of each. Discuss\n",
    "# nominal, ordinal, interval, and ratio scales."
   ]
  },
  {
   "cell_type": "raw",
   "id": "38ed178f-587e-44f9-a505-51512edbf3c3",
   "metadata": {},
   "source": [
    "Qualitativa: Categorical data and they are Nominal, ordinal\n",
    "Qunatitative : Numerical data and they are Discrete and continous"
   ]
  },
  {
   "cell_type": "markdown",
   "id": "bb3357fd-3c78-42a6-965f-b747f33cc444",
   "metadata": {},
   "source": [
    "Scales of Measurement\n",
    "1) Nominal\n",
    "\n",
    "There is no order in the categorical data eg: Gender, colour, ethinicity\n",
    "\n",
    "2) Ordinal\n",
    "\n",
    "There is an meaningful order but we cannot make the difference between data eg: Ranks\n",
    "\n",
    "3) Interval\n",
    "\n",
    "There is a meaningful order in the categorical data and we can make difference from these data and no compulsorly that 0 has to be the starting point\n",
    "eg: Marks, Grades, height , weight\n",
    "\n",
    "4) Ratio\n",
    "\n",
    "There is a meaningful order in  the categorical data and we can make different but each data should begins with 0\n",
    "eg: height , weight not temperature"
   ]
  },
  {
   "cell_type": "code",
   "execution_count": 7,
   "id": "55d8d08a-b91f-4d75-b0c3-2cd1279ca81b",
   "metadata": {},
   "outputs": [],
   "source": [
    "# 2. What are the measures of central tendency, and when should you use each? Discuss the mean, median,\n",
    "# and mode with examples and situations where each is appropriate."
   ]
  },
  {
   "cell_type": "markdown",
   "id": "b4dbc688-d1d9-4956-889c-f98557f6672c",
   "metadata": {},
   "source": [
    "Measure of Central tendency repersents the central point of the data set\n",
    "\n",
    "1) mean \n",
    "\n",
    "Mean is the arithemetical mid value or average value of the data set\n",
    "They are used in quantitative data set if they are not affected by the outlier"
   ]
  },
  {
   "cell_type": "code",
   "execution_count": 11,
   "id": "a616b1af-9b97-4a9e-92ad-094bec3344e8",
   "metadata": {},
   "outputs": [],
   "source": [
    "data = [1,2,2,4,7,3]\n",
    "import numpy as np"
   ]
  },
  {
   "cell_type": "code",
   "execution_count": 13,
   "id": "670190ac-7f1e-4843-bfcb-f419df607fce",
   "metadata": {},
   "outputs": [
    {
     "data": {
      "text/plain": [
       "3.1666666666666665"
      ]
     },
     "execution_count": 13,
     "metadata": {},
     "output_type": "execute_result"
    }
   ],
   "source": [
    "np.mean(data)"
   ]
  },
  {
   "cell_type": "raw",
   "id": "f4483593-40a1-4cc0-bdbc-1bf11e61880d",
   "metadata": {},
   "source": [
    "2) Median\n",
    "\n",
    "Median is the Phyiscal mid point of the data set after sorted\n",
    "They are used in the Quantitative data set if they are affected by the outlier"
   ]
  },
  {
   "cell_type": "code",
   "execution_count": 17,
   "id": "152b37f1-7c04-4bf6-888f-828b285139a2",
   "metadata": {},
   "outputs": [
    {
     "data": {
      "text/plain": [
       "2.5"
      ]
     },
     "execution_count": 17,
     "metadata": {},
     "output_type": "execute_result"
    }
   ],
   "source": [
    "np.median(data)"
   ]
  },
  {
   "cell_type": "markdown",
   "id": "f2df76c3-8d44-4245-8966-b841642989f1",
   "metadata": {},
   "source": [
    "3) Mode\n",
    "\n",
    "Mode are Most used in the categorical data and they are the most repeated value in the data"
   ]
  },
  {
   "cell_type": "code",
   "execution_count": 21,
   "id": "10e5503b-7e5d-4b62-92fc-bd7736502231",
   "metadata": {},
   "outputs": [],
   "source": [
    "import statistics"
   ]
  },
  {
   "cell_type": "code",
   "execution_count": 23,
   "id": "ce604ac6-256a-402a-a109-0cea5a5778eb",
   "metadata": {},
   "outputs": [
    {
     "data": {
      "text/plain": [
       "2"
      ]
     },
     "execution_count": 23,
     "metadata": {},
     "output_type": "execute_result"
    }
   ],
   "source": [
    "statistics.mode(data)"
   ]
  },
  {
   "cell_type": "code",
   "execution_count": 25,
   "id": "e27ffd86-6a46-4eea-a3e5-e2706c0a89c3",
   "metadata": {},
   "outputs": [],
   "source": [
    "# 3. Explain the concept of dispersion. How do variance and standard deviation measure the spread of data?"
   ]
  },
  {
   "cell_type": "markdown",
   "id": "4eb46755-431b-4a90-857b-6f2e9a6748f9",
   "metadata": {},
   "source": [
    "The concept of dispersion is the how the data is spread \n",
    "\n",
    "Both Variance and Standard deviation are help to quantify how the each individual data is deviate from the mean of the dataset\n",
    "\n",
    "Variance:\n",
    " Is an Average of squared difference from the mean\n",
    "\n",
    "Standard deviation\n",
    " is the squareroot of the Variance\n"
   ]
  },
  {
   "cell_type": "code",
   "execution_count": 30,
   "id": "3e69cad3-ba0e-4373-b499-759a66450f14",
   "metadata": {},
   "outputs": [],
   "source": [
    "# 4. What is a box plot, and what can it tell you about the distribution of data?"
   ]
  },
  {
   "cell_type": "raw",
   "id": "91a87659-abba-49d2-a3a2-a67a8fab9775",
   "metadata": {},
   "source": [
    "The box plot help to understand the outlier if any\n",
    "identify the value that outside the upper fence or lower fence"
   ]
  },
  {
   "cell_type": "code",
   "execution_count": 34,
   "id": "e4974240-81f4-40b6-9051-0d8f348ae8f1",
   "metadata": {},
   "outputs": [],
   "source": [
    "# 5. Discuss the role of random sampling in making inferences about populations."
   ]
  },
  {
   "cell_type": "markdown",
   "id": "00c75902-5cd2-4b71-a8fa-84a8fbe5f948",
   "metadata": {},
   "source": [
    "The role of the random sampling  is the every members or population has the chance to be selected for the sampling"
   ]
  },
  {
   "cell_type": "code",
   "execution_count": 38,
   "id": "a2d3f5bf-7d9a-4c96-8c06-fce1b68fb5ca",
   "metadata": {},
   "outputs": [],
   "source": [
    "# 6. Explain the concept of skewness and its types. How does skewness affect the interpretation of data?"
   ]
  },
  {
   "cell_type": "raw",
   "id": "818a9c67-b5ad-4beb-80fb-926aa0cbc607",
   "metadata": {},
   "source": [
    "Skewness is the measurement of the symmetricity\n",
    "in other word it is slope to some side\n",
    "\n",
    "There are mainly 3 type \n",
    "no skewness >> symmetric\n",
    "\n",
    "left skewed >> most of the data in the left and negative skewed ,tail is on left\n",
    "\n",
    "right skewed >> Most of the data in the right and Postivily skewed , tail is on right"
   ]
  },
  {
   "cell_type": "code",
   "execution_count": 40,
   "id": "e4bab3a8-af7f-4cf6-97e6-1f3c381e80ee",
   "metadata": {},
   "outputs": [],
   "source": [
    "# 7. What is the interquartile range (IQR), and how is it used to detect outliers?"
   ]
  },
  {
   "cell_type": "markdown",
   "id": "a45f66a2-07b7-4d50-9110-e6596e7d7835",
   "metadata": {},
   "source": [
    "IQR is the Q3 - Q1 instead of the Q4-Q1, so that the outlier is not affected\n",
    "\n",
    "for detecting using lower fence (q1 - 1.5*IQR)\n",
    "upper fence (Q3 + 1.5*IQR)\n",
    "\n",
    "the value outside the lower and upper is the Outlier"
   ]
  },
  {
   "cell_type": "code",
   "execution_count": 45,
   "id": "9e98b040-1019-4dcf-bdbc-bab74e4c53b0",
   "metadata": {},
   "outputs": [],
   "source": [
    "#8 Discuss the conditions under which the binomial distribution is used."
   ]
  },
  {
   "cell_type": "raw",
   "id": "fa5f1993-4e14-4f39-b9e3-78e9aee2c966",
   "metadata": {},
   "source": [
    "n: Fixed number of trials.\n",
    "Two outcomes: Each trial has success or failure.\n",
    "p: Constant probability of success.\n",
    "Independence: Trials are independent of each other.\n",
    "If these conditions are met, the binomial distribution is an appropriate model for the situation."
   ]
  },
  {
   "cell_type": "code",
   "execution_count": 48,
   "id": "104b9141-96a9-4ef9-9667-24dd12515c63",
   "metadata": {},
   "outputs": [],
   "source": [
    "# 9. Explain the properties of the normal distribution and the empirical rule (68-95-99.7 rule)."
   ]
  },
  {
   "cell_type": "raw",
   "id": "c62d6cc2-53b3-426d-badc-57449154b85c",
   "metadata": {},
   "source": [
    "The normal distribution and the empirical rule are widely used in statistics for data analysis, quality control, and hypothesis testing. For instance:\n",
    "\n",
    "In a class, if the exam scores follow a normal distribution with a mean of 75 and a standard deviation of 10, approximately 68% of students scored between 65 and 85 (within 1 standard deviation of the mean).\n",
    "The normal distribution helps model real-world phenomena that follow a bell-curve pattern, while the empirical rule provides a quick estimate of how data is distributed within that curve."
   ]
  },
  {
   "cell_type": "code",
   "execution_count": null,
   "id": "d72d00ce-c9a6-4153-bb18-eac75798c6ce",
   "metadata": {},
   "outputs": [],
   "source": [
    "# 10. Provide a real-life example of a Poisson process and calculate the probability for a specific event."
   ]
  },
  {
   "cell_type": "raw",
   "id": "5db44047-c23e-41f4-a1d5-d31df90b86b5",
   "metadata": {},
   "source": [
    "In this real-life example of a Poisson process (customer arrivals at a bank), we used the Poisson formula to calculate that there is about a 10.46% chance of exactly 7 customers arriving at the bank in a given hour, assuming an average arrival rate of 5 customers per hour."
   ]
  },
  {
   "cell_type": "code",
   "execution_count": 52,
   "id": "303f67fc-2e05-4e69-8026-c5f38619f1b8",
   "metadata": {},
   "outputs": [],
   "source": [
    "# 11. Explain what a random variable is and differentiate between discrete and continuous random variables."
   ]
  },
  {
   "cell_type": "markdown",
   "id": "b8159d79-9d9e-498b-83e0-ce2fa35f6da3",
   "metadata": {},
   "source": [
    "A discrete random variable takes on countable, specific values, and its probabilities are described by a PMF.\n",
    "A continuous random variable can take any value within a given range, and its probabilities are described by a PDF.\n",
    "Both discrete and continuous random variables are essential concepts in probability and statistics for modeling different types of data."
   ]
  },
  {
   "cell_type": "code",
   "execution_count": 55,
   "id": "851474d6-6c9a-42eb-b7ff-0649db0cc2be",
   "metadata": {},
   "outputs": [],
   "source": [
    "# 12. Provide an example dataset, calculate both covariance and correlation, and interpret the results."
   ]
  },
  {
   "cell_type": "code",
   "execution_count": 58,
   "id": "5be0708c-15d6-47ce-942d-dbd529275274",
   "metadata": {},
   "outputs": [],
   "source": [
    "import seaborn as sns"
   ]
  },
  {
   "cell_type": "code",
   "execution_count": 60,
   "id": "8988a611-5a25-490b-a4b3-dec6aea2bba4",
   "metadata": {},
   "outputs": [
    {
     "data": {
      "text/plain": [
       "['anagrams',\n",
       " 'anscombe',\n",
       " 'attention',\n",
       " 'brain_networks',\n",
       " 'car_crashes',\n",
       " 'diamonds',\n",
       " 'dots',\n",
       " 'dowjones',\n",
       " 'exercise',\n",
       " 'flights',\n",
       " 'fmri',\n",
       " 'geyser',\n",
       " 'glue',\n",
       " 'healthexp',\n",
       " 'iris',\n",
       " 'mpg',\n",
       " 'penguins',\n",
       " 'planets',\n",
       " 'seaice',\n",
       " 'taxis',\n",
       " 'tips',\n",
       " 'titanic']"
      ]
     },
     "execution_count": 60,
     "metadata": {},
     "output_type": "execute_result"
    }
   ],
   "source": [
    "sns.get_dataset_names()"
   ]
  },
  {
   "cell_type": "code",
   "execution_count": 62,
   "id": "003a9826-13bc-4cf0-95c6-a65af52eb7eb",
   "metadata": {},
   "outputs": [],
   "source": [
    "df = sns.load_dataset(\"tips\")"
   ]
  },
  {
   "cell_type": "code",
   "execution_count": 64,
   "id": "9bbe2518-137f-4245-aee3-f9c264ccf413",
   "metadata": {},
   "outputs": [
    {
     "data": {
      "text/html": [
       "<div>\n",
       "<style scoped>\n",
       "    .dataframe tbody tr th:only-of-type {\n",
       "        vertical-align: middle;\n",
       "    }\n",
       "\n",
       "    .dataframe tbody tr th {\n",
       "        vertical-align: top;\n",
       "    }\n",
       "\n",
       "    .dataframe thead th {\n",
       "        text-align: right;\n",
       "    }\n",
       "</style>\n",
       "<table border=\"1\" class=\"dataframe\">\n",
       "  <thead>\n",
       "    <tr style=\"text-align: right;\">\n",
       "      <th></th>\n",
       "      <th>total_bill</th>\n",
       "      <th>tip</th>\n",
       "      <th>sex</th>\n",
       "      <th>smoker</th>\n",
       "      <th>day</th>\n",
       "      <th>time</th>\n",
       "      <th>size</th>\n",
       "    </tr>\n",
       "  </thead>\n",
       "  <tbody>\n",
       "    <tr>\n",
       "      <th>0</th>\n",
       "      <td>16.99</td>\n",
       "      <td>1.01</td>\n",
       "      <td>Female</td>\n",
       "      <td>No</td>\n",
       "      <td>Sun</td>\n",
       "      <td>Dinner</td>\n",
       "      <td>2</td>\n",
       "    </tr>\n",
       "    <tr>\n",
       "      <th>1</th>\n",
       "      <td>10.34</td>\n",
       "      <td>1.66</td>\n",
       "      <td>Male</td>\n",
       "      <td>No</td>\n",
       "      <td>Sun</td>\n",
       "      <td>Dinner</td>\n",
       "      <td>3</td>\n",
       "    </tr>\n",
       "    <tr>\n",
       "      <th>2</th>\n",
       "      <td>21.01</td>\n",
       "      <td>3.50</td>\n",
       "      <td>Male</td>\n",
       "      <td>No</td>\n",
       "      <td>Sun</td>\n",
       "      <td>Dinner</td>\n",
       "      <td>3</td>\n",
       "    </tr>\n",
       "    <tr>\n",
       "      <th>3</th>\n",
       "      <td>23.68</td>\n",
       "      <td>3.31</td>\n",
       "      <td>Male</td>\n",
       "      <td>No</td>\n",
       "      <td>Sun</td>\n",
       "      <td>Dinner</td>\n",
       "      <td>2</td>\n",
       "    </tr>\n",
       "    <tr>\n",
       "      <th>4</th>\n",
       "      <td>24.59</td>\n",
       "      <td>3.61</td>\n",
       "      <td>Female</td>\n",
       "      <td>No</td>\n",
       "      <td>Sun</td>\n",
       "      <td>Dinner</td>\n",
       "      <td>4</td>\n",
       "    </tr>\n",
       "    <tr>\n",
       "      <th>...</th>\n",
       "      <td>...</td>\n",
       "      <td>...</td>\n",
       "      <td>...</td>\n",
       "      <td>...</td>\n",
       "      <td>...</td>\n",
       "      <td>...</td>\n",
       "      <td>...</td>\n",
       "    </tr>\n",
       "    <tr>\n",
       "      <th>239</th>\n",
       "      <td>29.03</td>\n",
       "      <td>5.92</td>\n",
       "      <td>Male</td>\n",
       "      <td>No</td>\n",
       "      <td>Sat</td>\n",
       "      <td>Dinner</td>\n",
       "      <td>3</td>\n",
       "    </tr>\n",
       "    <tr>\n",
       "      <th>240</th>\n",
       "      <td>27.18</td>\n",
       "      <td>2.00</td>\n",
       "      <td>Female</td>\n",
       "      <td>Yes</td>\n",
       "      <td>Sat</td>\n",
       "      <td>Dinner</td>\n",
       "      <td>2</td>\n",
       "    </tr>\n",
       "    <tr>\n",
       "      <th>241</th>\n",
       "      <td>22.67</td>\n",
       "      <td>2.00</td>\n",
       "      <td>Male</td>\n",
       "      <td>Yes</td>\n",
       "      <td>Sat</td>\n",
       "      <td>Dinner</td>\n",
       "      <td>2</td>\n",
       "    </tr>\n",
       "    <tr>\n",
       "      <th>242</th>\n",
       "      <td>17.82</td>\n",
       "      <td>1.75</td>\n",
       "      <td>Male</td>\n",
       "      <td>No</td>\n",
       "      <td>Sat</td>\n",
       "      <td>Dinner</td>\n",
       "      <td>2</td>\n",
       "    </tr>\n",
       "    <tr>\n",
       "      <th>243</th>\n",
       "      <td>18.78</td>\n",
       "      <td>3.00</td>\n",
       "      <td>Female</td>\n",
       "      <td>No</td>\n",
       "      <td>Thur</td>\n",
       "      <td>Dinner</td>\n",
       "      <td>2</td>\n",
       "    </tr>\n",
       "  </tbody>\n",
       "</table>\n",
       "<p>244 rows × 7 columns</p>\n",
       "</div>"
      ],
      "text/plain": [
       "     total_bill   tip     sex smoker   day    time  size\n",
       "0         16.99  1.01  Female     No   Sun  Dinner     2\n",
       "1         10.34  1.66    Male     No   Sun  Dinner     3\n",
       "2         21.01  3.50    Male     No   Sun  Dinner     3\n",
       "3         23.68  3.31    Male     No   Sun  Dinner     2\n",
       "4         24.59  3.61  Female     No   Sun  Dinner     4\n",
       "..          ...   ...     ...    ...   ...     ...   ...\n",
       "239       29.03  5.92    Male     No   Sat  Dinner     3\n",
       "240       27.18  2.00  Female    Yes   Sat  Dinner     2\n",
       "241       22.67  2.00    Male    Yes   Sat  Dinner     2\n",
       "242       17.82  1.75    Male     No   Sat  Dinner     2\n",
       "243       18.78  3.00  Female     No  Thur  Dinner     2\n",
       "\n",
       "[244 rows x 7 columns]"
      ]
     },
     "execution_count": 64,
     "metadata": {},
     "output_type": "execute_result"
    }
   ],
   "source": [
    "df"
   ]
  },
  {
   "cell_type": "code",
   "execution_count": 66,
   "id": "ff599d37-0efb-4a48-9dde-41ac1624fe38",
   "metadata": {},
   "outputs": [
    {
     "data": {
      "text/html": [
       "<div>\n",
       "<style scoped>\n",
       "    .dataframe tbody tr th:only-of-type {\n",
       "        vertical-align: middle;\n",
       "    }\n",
       "\n",
       "    .dataframe tbody tr th {\n",
       "        vertical-align: top;\n",
       "    }\n",
       "\n",
       "    .dataframe thead th {\n",
       "        text-align: right;\n",
       "    }\n",
       "</style>\n",
       "<table border=\"1\" class=\"dataframe\">\n",
       "  <thead>\n",
       "    <tr style=\"text-align: right;\">\n",
       "      <th></th>\n",
       "      <th>total_bill</th>\n",
       "      <th>tip</th>\n",
       "      <th>size</th>\n",
       "    </tr>\n",
       "  </thead>\n",
       "  <tbody>\n",
       "    <tr>\n",
       "      <th>total_bill</th>\n",
       "      <td>79.252939</td>\n",
       "      <td>8.323502</td>\n",
       "      <td>5.065983</td>\n",
       "    </tr>\n",
       "    <tr>\n",
       "      <th>tip</th>\n",
       "      <td>8.323502</td>\n",
       "      <td>1.914455</td>\n",
       "      <td>0.643906</td>\n",
       "    </tr>\n",
       "    <tr>\n",
       "      <th>size</th>\n",
       "      <td>5.065983</td>\n",
       "      <td>0.643906</td>\n",
       "      <td>0.904591</td>\n",
       "    </tr>\n",
       "  </tbody>\n",
       "</table>\n",
       "</div>"
      ],
      "text/plain": [
       "            total_bill       tip      size\n",
       "total_bill   79.252939  8.323502  5.065983\n",
       "tip           8.323502  1.914455  0.643906\n",
       "size          5.065983  0.643906  0.904591"
      ]
     },
     "execution_count": 66,
     "metadata": {},
     "output_type": "execute_result"
    }
   ],
   "source": [
    "df.cov(numeric_only = True)"
   ]
  },
  {
   "cell_type": "code",
   "execution_count": 77,
   "id": "302cae82-0977-49db-a63a-54389f532989",
   "metadata": {},
   "outputs": [
    {
     "data": {
      "text/html": [
       "<div>\n",
       "<style scoped>\n",
       "    .dataframe tbody tr th:only-of-type {\n",
       "        vertical-align: middle;\n",
       "    }\n",
       "\n",
       "    .dataframe tbody tr th {\n",
       "        vertical-align: top;\n",
       "    }\n",
       "\n",
       "    .dataframe thead th {\n",
       "        text-align: right;\n",
       "    }\n",
       "</style>\n",
       "<table border=\"1\" class=\"dataframe\">\n",
       "  <thead>\n",
       "    <tr style=\"text-align: right;\">\n",
       "      <th></th>\n",
       "      <th>total_bill</th>\n",
       "      <th>tip</th>\n",
       "      <th>size</th>\n",
       "    </tr>\n",
       "  </thead>\n",
       "  <tbody>\n",
       "    <tr>\n",
       "      <th>total_bill</th>\n",
       "      <td>1.000000</td>\n",
       "      <td>0.675734</td>\n",
       "      <td>0.598315</td>\n",
       "    </tr>\n",
       "    <tr>\n",
       "      <th>tip</th>\n",
       "      <td>0.675734</td>\n",
       "      <td>1.000000</td>\n",
       "      <td>0.489299</td>\n",
       "    </tr>\n",
       "    <tr>\n",
       "      <th>size</th>\n",
       "      <td>0.598315</td>\n",
       "      <td>0.489299</td>\n",
       "      <td>1.000000</td>\n",
       "    </tr>\n",
       "  </tbody>\n",
       "</table>\n",
       "</div>"
      ],
      "text/plain": [
       "            total_bill       tip      size\n",
       "total_bill    1.000000  0.675734  0.598315\n",
       "tip           0.675734  1.000000  0.489299\n",
       "size          0.598315  0.489299  1.000000"
      ]
     },
     "execution_count": 77,
     "metadata": {},
     "output_type": "execute_result"
    }
   ],
   "source": [
    "df.corr(numeric_only = True)"
   ]
  },
  {
   "cell_type": "code",
   "execution_count": 81,
   "id": "6d33e7f7-9df0-4fd5-bfb4-76e9955804b4",
   "metadata": {},
   "outputs": [
    {
     "data": {
      "text/plain": [
       "<Axes: >"
      ]
     },
     "execution_count": 81,
     "metadata": {},
     "output_type": "execute_result"
    },
    {
     "data": {
      "image/png": "[encoded data removed]",
      "text/plain": [
       "<Figure size 640x480 with 2 Axes>"
      ]
     },
     "metadata": {},
     "output_type": "display_data"
    }
   ],
   "source": [
    "sns.heatmap(df.corr(numeric_only = True))"
   ]
  },
  {
   "cell_type": "code",
   "execution_count": null,
   "id": "bd4e076e-dde7-4901-84bf-0ffdd516ce4f",
   "metadata": {},
   "outputs": [],
   "source": []
  }
 ],
 "metadata": {
  "kernelspec": {
   "display_name": "Python 3 (ipykernel)",
   "language": "python",
   "name": "python3"
  },
  "language_info": {
   "codemirror_mode": {
    "name": "ipython",
    "version": 3
   },
   "file_extension": ".py",
   "mimetype": "text/x-python",
   "name": "python",
   "nbconvert_exporter": "python",
   "pygments_lexer": "ipython3",
   "version": "3.12.4"
  }
 },
 "nbformat": 4,
 "nbformat_minor": 5
}
